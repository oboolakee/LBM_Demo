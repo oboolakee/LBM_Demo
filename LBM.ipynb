{
 "cells": [
  {
   "cell_type": "markdown",
   "id": "fe9d1513-4faf-49f4-8b2b-2dba1f271e24",
   "metadata": {},
   "source": [
    "# LBM 1D Code Example"
   ]
  },
  {
   "cell_type": "code",
   "execution_count": 1,
   "id": "fc1b1cf9-788f-4831-b43d-d20d8ab91eb5",
   "metadata": {},
   "outputs": [],
   "source": [
    "import numpy as np\n",
    "import matplotlib.pyplot as plt\n",
    "from IPython.display import clear_output"
   ]
  },
  {
   "attachments": {},
   "cell_type": "markdown",
   "id": "df8b1867-4c5d-48dd-87b7-72d9c2743eb4",
   "metadata": {},
   "source": [
    "## Problem Definiton\n",
    "\n",
    "Define diffusivity $D$, domain length $L$ and maximum time $t_{max}$"
   ]
  },
  {
   "cell_type": "code",
   "execution_count": 2,
   "id": "16c6fce4-39d5-4913-ac6e-7dcd260a8bbf",
   "metadata": {},
   "outputs": [],
   "source": [
    "D = 0.2\n",
    "L = 1.0\n",
    "t_max = 1\n",
    "\n",
    "cr = 10"
   ]
  },
  {
   "cell_type": "code",
   "execution_count": 3,
   "id": "e7d98648-5674-47f5-a5eb-576eee97090a",
   "metadata": {},
   "outputs": [],
   "source": [
    "def ic(x, L):\n",
    "    return np.exp(-((x - L / 2) / 0.1) ** 2)"
   ]
  },
  {
   "cell_type": "markdown",
   "id": "8e527180-3701-4530-8aa3-d1dc1f628dab",
   "metadata": {},
   "source": [
    "## Numerical parameters\n",
    "Define number of lattice nodes $nx$, number of time steps $nt$ and the weighting factor $\\theta$. The refinement factor $rf<1$ allows to increase resolution according to the diffusive scaling."
   ]
  },
  {
   "cell_type": "code",
   "execution_count": 4,
   "id": "50a06aad-e416-4490-bc35-c04c5271716b",
   "metadata": {},
   "outputs": [],
   "source": [
    "nx = 16\n",
    "nt = 80\n",
    "theta = 1/3\n",
    "rf = 1/2"
   ]
  },
  {
   "cell_type": "markdown",
   "id": "d5ef0706-6e0c-4cfb-bb1f-57abd07a2f72",
   "metadata": {},
   "source": [
    "## Preprocessing\n",
    " - Compute the discretization to be used in the analysis: $nx\\leftarrow nx/rf$ and $nt\\leftarrow nt/rf^2$\n",
    " - Determine lattice spacing $\\Delta x = L/nx$ and time step size $\\Delta t = t_{max}/nt$\n",
    " - Setup an array of lattice node locations (assuming $\\Delta x/2$ padding at the left and right side of the $(0,L)$ domain\n",
    " - Calculate the relaxation rate $\\omega$"
   ]
  },
  {
   "cell_type": "code",
   "execution_count": 5,
   "id": "988e2a90-81b2-4c2f-a036-d85d2f2a0101",
   "metadata": {},
   "outputs": [],
   "source": [
    "nx = int(nx/rf);\n",
    "nt = int(nt/rf**2);\n",
    "dx = L/nx;\n",
    "dt = t_max/nt;\n",
    "x_domain = np.arange(dx/2, L, dx)\n",
    "omega = 1/(D*dt/dx**2/theta+0.5);"
   ]
  },
  {
   "cell_type": "markdown",
   "id": "8c02c44c-6ba8-41f8-82de-88f820059b97",
   "metadata": {},
   "source": [
    "## Initialization\n",
    " - Define the local equilibrium $f^{eq}(u)$\n",
    " - Initialize the population vector at equilibrium\n",
    "\n",
    "Layout of the pre- and post-collision population array: $[q \\times n_{ghost}]$, where $q=3$ is the number of populations and $n_{ghost}=nx+2$ the number of lattice nodes + 1 extra outside node on the left and right side of the domain"
   ]
  },
  {
   "cell_type": "code",
   "execution_count": 6,
   "id": "b1cd6745-6a7d-4603-87a4-9faf8b911a41",
   "metadata": {},
   "outputs": [],
   "source": [
    "def feq(u):\n",
    "    return np.array([\n",
    "        (1 - theta) * u,\n",
    "        (theta / 2) * u,\n",
    "        (theta / 2) * u\n",
    "    ])\n",
    "\n",
    "f = feq(ic(x_domain,L))"
   ]
  },
  {
   "cell_type": "markdown",
   "id": "8d25cabe-3523-4f69-b238-d4a9f7b0462b",
   "metadata": {},
   "source": [
    "## Definition of a single LBM time step\n",
    " - Compute zeroth-order moment $u^{num} = \\sum_i f_i$\n",
    " - Perform collision\n",
    " - Perform streaming\n",
    " - Apply periodic boundary conditions"
   ]
  },
  {
   "cell_type": "code",
   "execution_count": 7,
   "id": "cc875fab-b838-4c4c-8024-1243b85d7c84",
   "metadata": {},
   "outputs": [],
   "source": [
    "def timestep(f, omega):\n",
    "    unum = np.sum(f, axis=0)\n",
    "    fpost = omega*feq(unum) + (1-omega)*f\n",
    "\n",
    "    f[0,:] = fpost[0,:]\n",
    "    f[1,1:] = fpost[1,:-1]\n",
    "    f[2,:-1] = fpost[2,1:]\n",
    "\n",
    "    f[1,0] = fpost[1,-1]\n",
    "    f[2,-1] = fpost[2,0]\n",
    "    \n",
    "    return f, unum"
   ]
  },
  {
   "cell_type": "markdown",
   "id": "6bdc40f2-abac-4aa8-b928-fea1812525bd",
   "metadata": {},
   "source": [
    "## Time step loop"
   ]
  },
  {
   "cell_type": "code",
   "execution_count": 8,
   "id": "2a31660c-b8d2-40a0-8cf5-8fc196afeec8",
   "metadata": {
    "editable": true,
    "slideshow": {
     "slide_type": ""
    },
    "tags": []
   },
   "outputs": [
    {
     "data": {
      "image/png": "[encoded data removed]",
      "text/plain": [
       "<Figure size 600x400 with 1 Axes>"
      ]
     },
     "metadata": {},
     "output_type": "display_data"
    }
   ],
   "source": [
    "for it in range(nt):\n",
    "    # Run the LBM update\n",
    "    f, unum = timestep(f, omega)\n",
    "\n",
    "    if it%cr == 0 or it == nt-1:\n",
    "        # Clear previous plot for animation effect\n",
    "        clear_output(wait=True)\n",
    "    \n",
    "        # Plot u over x_domain\n",
    "        plt.figure(figsize=(6, 4))\n",
    "        plt.plot(x_domain, unum, label=f\"Time step = {it}\")\n",
    "        plt.xlabel(\"x\")\n",
    "        plt.ylabel(\"u\")\n",
    "        plt.title(\"LBM Velocity Evolution\")\n",
    "        plt.grid(True)\n",
    "        plt.ylim((0,1))\n",
    "        plt.legend()\n",
    "        plt.show()"
   ]
  },
  {
   "cell_type": "code",
   "execution_count": null,
   "id": "dcf05ab2-40ec-45ac-a3dd-50d65e9d5819",
   "metadata": {},
   "outputs": [],
   "source": []
  }
 ],
 "metadata": {
  "kernelspec": {
   "display_name": "Python 3 (ipykernel)",
   "language": "python",
   "name": "python3"
  },
  "language_info": {
   "codemirror_mode": {
    "name": "ipython",
    "version": 3
   },
   "file_extension": ".py",
   "mimetype": "text/x-python",
   "name": "python",
   "nbconvert_exporter": "python",
   "pygments_lexer": "ipython3",
   "version": "3.10.12"
  }
 },
 "nbformat": 4,
 "nbformat_minor": 5
}
